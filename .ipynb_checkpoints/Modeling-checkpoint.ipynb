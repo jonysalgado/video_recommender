{
 "cells": [
  {
   "cell_type": "markdown",
   "id": "201eea8d",
   "metadata": {},
   "source": [
    "# Setup"
   ]
  },
  {
   "cell_type": "code",
   "execution_count": 8,
   "id": "a6cad4c4",
   "metadata": {},
   "outputs": [],
   "source": [
    "import pandas as pd\n",
    "import numpy as np\n",
    "from sklearn.linear_model import LogisticRegression\n",
    "from sklearn.ensemble import RandomForestClassifier\n",
    "from scipy.sparse import hstack\n",
    "from sklearn.feature_extraction.text import  TfidfVectorizer\n",
    "from sklearn.metrics import roc_auc_score, average_precision_score\n",
    "from sklearn.metrics import precision_score, f1_score, precision_recall_curve\n",
    "import matplotlib.pyplot as plt"
   ]
  },
  {
   "cell_type": "markdown",
   "id": "0cfc6242",
   "metadata": {},
   "source": [
    "# Functions"
   ]
  },
  {
   "cell_type": "code",
   "execution_count": 9,
   "id": "5d28dec6",
   "metadata": {},
   "outputs": [],
   "source": [
    "def plot_precision_recall_vs_threshold(y_true, y_scores):\n",
    "    thrh, f1_best, (precisions, recalls, thresholds) = better_threshold(y_true, y_scores, True)\n",
    "    plt.figure(figsize=(8, 4))\n",
    "    plt.axis([0, 1.1, 0, 1])\n",
    "    precision_by_thrs = precisions[np.argmax(thresholds == thrh)]\n",
    "    recall_by_thrs = recalls[np.argmax(thresholds == thrh)]\n",
    "    \n",
    "    plt.plot([thrh, thrh], [0., precision_by_thrs], \"r:\")\n",
    "    plt.plot([thrh, thrh], [0., recall_by_thrs], \"r:\")\n",
    "    plt.plot([0, thrh], [precision_by_thrs, precision_by_thrs], \"r:\")\n",
    "    plt.plot([0, thrh], [recall_by_thrs, recall_by_thrs], \"r:\")\n",
    "    plt.plot([thrh], [precision_by_thrs], \"ro\")        \n",
    "    plt.plot([thrh], [recall_by_thrs], \"ro\")   \n",
    "    \n",
    "    plt.plot(thresholds, precisions[:-1], \"b--\", label=\"Precision\")    \n",
    "    plt.plot(thresholds, recalls[:-1], \"g-\", label=\"Recall\")\n",
    "    plt.legend(loc=\"center right\", fontsize=14)\n",
    "    plt.xlabel(\"Threshold\")\n",
    "    plt.ylabel(\"Value\")\n",
    "    plt.grid(True)\n",
    "    \n",
    "def better_threshold(y_true, y_scores, return_precision_recall_threshods=False):\n",
    "    precisions, recalls, thresholds = precision_recall_curve(y_true, y_scores)\n",
    "    f1_best = 0\n",
    "    threshold = 0\n",
    "    for i in range(len(precisions)):\n",
    "        if precisions[i] != 0 and recalls[i] != 0:\n",
    "            f1 = 2*(precisions[i]*recalls[i])/(precisions[i] + recalls[i])\n",
    "        else:\n",
    "            f1 = 0\n",
    "        if f1 > f1_best:\n",
    "            f1_best = f1\n",
    "            threshold = thresholds[i]\n",
    "            \n",
    "    if return_precision_recall_threshods==False:\n",
    "        return threshold, f1_best\n",
    "    \n",
    "    return threshold, f1_best, (precisions, recalls, thresholds)"
   ]
  },
  {
   "cell_type": "code",
   "execution_count": 12,
   "id": "2bcb5af4",
   "metadata": {},
   "outputs": [
    {
     "data": {
      "text/html": [
       "<div>\n",
       "<style scoped>\n",
       "    .dataframe tbody tr th:only-of-type {\n",
       "        vertical-align: middle;\n",
       "    }\n",
       "\n",
       "    .dataframe tbody tr th {\n",
       "        vertical-align: top;\n",
       "    }\n",
       "\n",
       "    .dataframe thead th {\n",
       "        text-align: right;\n",
       "    }\n",
       "</style>\n",
       "<table border=\"1\" class=\"dataframe\">\n",
       "  <thead>\n",
       "    <tr style=\"text-align: right;\">\n",
       "      <th></th>\n",
       "      <th>id</th>\n",
       "      <th>title</th>\n",
       "      <th>formats</th>\n",
       "      <th>thumbnails</th>\n",
       "      <th>description</th>\n",
       "      <th>upload_date</th>\n",
       "      <th>uploader</th>\n",
       "      <th>uploader_id</th>\n",
       "      <th>uploader_url</th>\n",
       "      <th>channel_id</th>\n",
       "      <th>...</th>\n",
       "      <th>tbr</th>\n",
       "      <th>protocol</th>\n",
       "      <th>preference</th>\n",
       "      <th>http_headers</th>\n",
       "      <th>release_date</th>\n",
       "      <th>release_year</th>\n",
       "      <th>days_since_upload</th>\n",
       "      <th>thumbnails_links</th>\n",
       "      <th>y</th>\n",
       "      <th>views_per_day</th>\n",
       "    </tr>\n",
       "  </thead>\n",
       "  <tbody>\n",
       "    <tr>\n",
       "      <th>0</th>\n",
       "      <td>JyGGMyR3x5I</td>\n",
       "      <td>Machine Learning: Tutorial prático usando apen...</td>\n",
       "      <td>[{'asr': 48000, 'filesize': 16323674, 'format_...</td>\n",
       "      <td>[{'height': 94, 'url': 'https://i.ytimg.com/vi...</td>\n",
       "      <td>✅ALURA COM 10% DE DESCONTO: https://www.alura....</td>\n",
       "      <td>2019-11-08</td>\n",
       "      <td>Filipe Deschamps</td>\n",
       "      <td>UCU5JicSrEM5A63jkJ2QvGYw</td>\n",
       "      <td>http://www.youtube.com/channel/UCU5JicSrEM5A63...</td>\n",
       "      <td>UCU5JicSrEM5A63jkJ2QvGYw</td>\n",
       "      <td>...</td>\n",
       "      <td>NaN</td>\n",
       "      <td>NaN</td>\n",
       "      <td>NaN</td>\n",
       "      <td>NaN</td>\n",
       "      <td>NaN</td>\n",
       "      <td>NaN</td>\n",
       "      <td>825.0</td>\n",
       "      <td>https://i.ytimg.com/vi_webp/JyGGMyR3x5I/maxres...</td>\n",
       "      <td>0.0</td>\n",
       "      <td>219.296970</td>\n",
       "    </tr>\n",
       "    <tr>\n",
       "      <th>1</th>\n",
       "      <td>0PrOA2JK6GQ</td>\n",
       "      <td>Machine Learning Explicado</td>\n",
       "      <td>[{'asr': 48000, 'filesize': 5203175, 'format_i...</td>\n",
       "      <td>[{'height': 94, 'url': 'https://i.ytimg.com/vi...</td>\n",
       "      <td>Machine learning (ou aprendizado de máquina) é...</td>\n",
       "      <td>2021-02-25</td>\n",
       "      <td>Ciência Todo Dia</td>\n",
       "      <td>CienciaTodoDia</td>\n",
       "      <td>http://www.youtube.com/user/CienciaTodoDia</td>\n",
       "      <td>UCn9Erjy00mpnWeLnRqhsA1g</td>\n",
       "      <td>...</td>\n",
       "      <td>NaN</td>\n",
       "      <td>NaN</td>\n",
       "      <td>NaN</td>\n",
       "      <td>NaN</td>\n",
       "      <td>NaN</td>\n",
       "      <td>NaN</td>\n",
       "      <td>350.0</td>\n",
       "      <td>https://i.ytimg.com/vi/0PrOA2JK6GQ/maxresdefau...</td>\n",
       "      <td>0.0</td>\n",
       "      <td>556.602857</td>\n",
       "    </tr>\n",
       "    <tr>\n",
       "      <th>2</th>\n",
       "      <td>t5z5lyrb-7s</td>\n",
       "      <td>Introdução ao Machine Learning (ML de Zero a 1...</td>\n",
       "      <td>[{'asr': 48000, 'filesize': 2603732, 'format_i...</td>\n",
       "      <td>[{'height': 94, 'url': 'https://i.ytimg.com/vi...</td>\n",
       "      <td>This video is also available in English: https...</td>\n",
       "      <td>2019-11-13</td>\n",
       "      <td>TensorFlow</td>\n",
       "      <td>UC0rqucBdTuFTjJiefW5t-IQ</td>\n",
       "      <td>http://www.youtube.com/channel/UC0rqucBdTuFTjJ...</td>\n",
       "      <td>UC0rqucBdTuFTjJiefW5t-IQ</td>\n",
       "      <td>...</td>\n",
       "      <td>NaN</td>\n",
       "      <td>NaN</td>\n",
       "      <td>NaN</td>\n",
       "      <td>NaN</td>\n",
       "      <td>NaN</td>\n",
       "      <td>NaN</td>\n",
       "      <td>820.0</td>\n",
       "      <td>https://i.ytimg.com/vi_webp/t5z5lyrb-7s/maxres...</td>\n",
       "      <td>0.0</td>\n",
       "      <td>17.907317</td>\n",
       "    </tr>\n",
       "    <tr>\n",
       "      <th>3</th>\n",
       "      <td>5q87K1WaoFI</td>\n",
       "      <td>Computer Scientist Explains Machine Learning i...</td>\n",
       "      <td>[{'asr': 48000, 'filesize': 9863039, 'format_i...</td>\n",
       "      <td>[{'height': 94, 'url': 'https://i.ytimg.com/vi...</td>\n",
       "      <td>WIRED has challenged computer scientist and Hi...</td>\n",
       "      <td>2021-08-18</td>\n",
       "      <td>WIRED</td>\n",
       "      <td>wired</td>\n",
       "      <td>http://www.youtube.com/user/wired</td>\n",
       "      <td>UCftwRNsjfRo08xYE31tkiyw</td>\n",
       "      <td>...</td>\n",
       "      <td>NaN</td>\n",
       "      <td>NaN</td>\n",
       "      <td>NaN</td>\n",
       "      <td>NaN</td>\n",
       "      <td>NaN</td>\n",
       "      <td>NaN</td>\n",
       "      <td>176.0</td>\n",
       "      <td>https://i.ytimg.com/vi/5q87K1WaoFI/maxresdefau...</td>\n",
       "      <td>0.0</td>\n",
       "      <td>5726.215909</td>\n",
       "    </tr>\n",
       "    <tr>\n",
       "      <th>4</th>\n",
       "      <td>qDmojpkd8rE</td>\n",
       "      <td>O que é Machine Learning (Aprendizado de Máqui...</td>\n",
       "      <td>[{'format_id': '139', 'manifest_url': 'https:/...</td>\n",
       "      <td>[{'height': 94, 'url': 'https://i.ytimg.com/vi...</td>\n",
       "      <td>Nesse vídeo vamos aprender o que é machine lea...</td>\n",
       "      <td>2019-06-21</td>\n",
       "      <td>Didática Tech</td>\n",
       "      <td>UC0BiVs5EYh57gzGVvhddjsA</td>\n",
       "      <td>http://www.youtube.com/channel/UC0BiVs5EYh57gz...</td>\n",
       "      <td>UC0BiVs5EYh57gzGVvhddjsA</td>\n",
       "      <td>...</td>\n",
       "      <td>NaN</td>\n",
       "      <td>NaN</td>\n",
       "      <td>NaN</td>\n",
       "      <td>NaN</td>\n",
       "      <td>NaN</td>\n",
       "      <td>NaN</td>\n",
       "      <td>965.0</td>\n",
       "      <td>https://i.ytimg.com/vi_webp/qDmojpkd8rE/maxres...</td>\n",
       "      <td>0.0</td>\n",
       "      <td>28.239378</td>\n",
       "    </tr>\n",
       "  </tbody>\n",
       "</table>\n",
       "<p>5 rows × 75 columns</p>\n",
       "</div>"
      ],
      "text/plain": [
       "            id                                              title  \\\n",
       "0  JyGGMyR3x5I  Machine Learning: Tutorial prático usando apen...   \n",
       "1  0PrOA2JK6GQ                         Machine Learning Explicado   \n",
       "2  t5z5lyrb-7s  Introdução ao Machine Learning (ML de Zero a 1...   \n",
       "3  5q87K1WaoFI  Computer Scientist Explains Machine Learning i...   \n",
       "4  qDmojpkd8rE  O que é Machine Learning (Aprendizado de Máqui...   \n",
       "\n",
       "                                             formats  \\\n",
       "0  [{'asr': 48000, 'filesize': 16323674, 'format_...   \n",
       "1  [{'asr': 48000, 'filesize': 5203175, 'format_i...   \n",
       "2  [{'asr': 48000, 'filesize': 2603732, 'format_i...   \n",
       "3  [{'asr': 48000, 'filesize': 9863039, 'format_i...   \n",
       "4  [{'format_id': '139', 'manifest_url': 'https:/...   \n",
       "\n",
       "                                          thumbnails  \\\n",
       "0  [{'height': 94, 'url': 'https://i.ytimg.com/vi...   \n",
       "1  [{'height': 94, 'url': 'https://i.ytimg.com/vi...   \n",
       "2  [{'height': 94, 'url': 'https://i.ytimg.com/vi...   \n",
       "3  [{'height': 94, 'url': 'https://i.ytimg.com/vi...   \n",
       "4  [{'height': 94, 'url': 'https://i.ytimg.com/vi...   \n",
       "\n",
       "                                         description upload_date  \\\n",
       "0  ✅ALURA COM 10% DE DESCONTO: https://www.alura....  2019-11-08   \n",
       "1  Machine learning (ou aprendizado de máquina) é...  2021-02-25   \n",
       "2  This video is also available in English: https...  2019-11-13   \n",
       "3  WIRED has challenged computer scientist and Hi...  2021-08-18   \n",
       "4  Nesse vídeo vamos aprender o que é machine lea...  2019-06-21   \n",
       "\n",
       "           uploader               uploader_id  \\\n",
       "0  Filipe Deschamps  UCU5JicSrEM5A63jkJ2QvGYw   \n",
       "1  Ciência Todo Dia            CienciaTodoDia   \n",
       "2        TensorFlow  UC0rqucBdTuFTjJiefW5t-IQ   \n",
       "3             WIRED                     wired   \n",
       "4     Didática Tech  UC0BiVs5EYh57gzGVvhddjsA   \n",
       "\n",
       "                                        uploader_url  \\\n",
       "0  http://www.youtube.com/channel/UCU5JicSrEM5A63...   \n",
       "1         http://www.youtube.com/user/CienciaTodoDia   \n",
       "2  http://www.youtube.com/channel/UC0rqucBdTuFTjJ...   \n",
       "3                  http://www.youtube.com/user/wired   \n",
       "4  http://www.youtube.com/channel/UC0BiVs5EYh57gz...   \n",
       "\n",
       "                 channel_id  ... tbr  protocol  preference  http_headers  \\\n",
       "0  UCU5JicSrEM5A63jkJ2QvGYw  ... NaN       NaN         NaN           NaN   \n",
       "1  UCn9Erjy00mpnWeLnRqhsA1g  ... NaN       NaN         NaN           NaN   \n",
       "2  UC0rqucBdTuFTjJiefW5t-IQ  ... NaN       NaN         NaN           NaN   \n",
       "3  UCftwRNsjfRo08xYE31tkiyw  ... NaN       NaN         NaN           NaN   \n",
       "4  UC0BiVs5EYh57gzGVvhddjsA  ... NaN       NaN         NaN           NaN   \n",
       "\n",
       "   release_date release_year days_since_upload  \\\n",
       "0           NaN          NaN             825.0   \n",
       "1           NaN          NaN             350.0   \n",
       "2           NaN          NaN             820.0   \n",
       "3           NaN          NaN             176.0   \n",
       "4           NaN          NaN             965.0   \n",
       "\n",
       "                                    thumbnails_links    y views_per_day  \n",
       "0  https://i.ytimg.com/vi_webp/JyGGMyR3x5I/maxres...  0.0    219.296970  \n",
       "1  https://i.ytimg.com/vi/0PrOA2JK6GQ/maxresdefau...  0.0    556.602857  \n",
       "2  https://i.ytimg.com/vi_webp/t5z5lyrb-7s/maxres...  0.0     17.907317  \n",
       "3  https://i.ytimg.com/vi/5q87K1WaoFI/maxresdefau...  0.0   5726.215909  \n",
       "4  https://i.ytimg.com/vi_webp/qDmojpkd8rE/maxres...  0.0     28.239378  \n",
       "\n",
       "[5 rows x 75 columns]"
      ]
     },
     "execution_count": 12,
     "metadata": {},
     "output_type": "execute_result"
    }
   ],
   "source": [
    "df = pd.read_csv(\"csv\\\\total_data.csv\")\n",
    "df = df[df[\"y\"].notnull()]\n",
    "df.head()"
   ]
  },
  {
   "cell_type": "code",
   "execution_count": 32,
   "id": "2377b4eb",
   "metadata": {},
   "outputs": [
    {
     "data": {
      "text/plain": [
       "views_per_day        0\n",
       "days_since_upload    0\n",
       "duration             0\n",
       "view_count           0\n",
       "dtype: int64"
      ]
     },
     "execution_count": 32,
     "metadata": {},
     "output_type": "execute_result"
    }
   ],
   "source": [
    "features = [\"views_per_day\", \"days_since_upload\", \"duration\", \"view_count\"]\n",
    "df = df.drop_duplicates(subset=['id'])\n",
    "df[features].isnull().sum()"
   ]
  },
  {
   "cell_type": "code",
   "execution_count": 34,
   "id": "3cd3c466",
   "metadata": {},
   "outputs": [
    {
     "data": {
      "text/plain": [
       "((538, 74), (539, 74), (538,), (539,))"
      ]
     },
     "execution_count": 34,
     "metadata": {},
     "output_type": "execute_result"
    }
   ],
   "source": [
    "date = \"2021-07-25\"\n",
    "mask_train = (df[\"upload_date\"] < date)\n",
    "mask_val = (df[\"upload_date\"] >= date)\n",
    "\n",
    "Xtrain, Xval = df[mask_train].drop(\"y\", axis=1), df[mask_val].drop(\"y\", axis=1)\n",
    "ytrain, yval = df[mask_train].pop(\"y\"), df[mask_val].pop(\"y\")\n",
    "Xtrain.shape, Xval.shape, ytrain.shape, yval.shape"
   ]
  },
  {
   "cell_type": "code",
   "execution_count": 35,
   "id": "371f76b8",
   "metadata": {},
   "outputs": [
    {
     "data": {
      "text/plain": [
       "((538, 410), (539, 410))"
      ]
     },
     "execution_count": 35,
     "metadata": {},
     "output_type": "execute_result"
    }
   ],
   "source": [
    "title_train = Xtrain[\"title\"]\n",
    "title_val = Xval[\"title\"]\n",
    "\n",
    "title_vec = TfidfVectorizer(min_df=2)\n",
    "title_bow_train = title_vec.fit_transform(title_train)\n",
    "title_bow_val = title_vec.transform(title_val)\n",
    "\n",
    "Xtrain_wtitle = hstack([Xtrain[features], title_bow_train])\n",
    "Xval_wtitle = hstack([Xval[features], title_bow_val])\n",
    "\n",
    "Xtrain_wtitle.shape, Xval_wtitle.shape"
   ]
  },
  {
   "cell_type": "markdown",
   "id": "1e35f08c",
   "metadata": {},
   "source": [
    "# Baseline"
   ]
  },
  {
   "cell_type": "code",
   "execution_count": 36,
   "id": "9b194408",
   "metadata": {},
   "outputs": [
    {
     "data": {
      "text/plain": [
       "RandomForestClassifier(class_weight='balanced', n_estimators=1000, n_jobs=6,\n",
       "                       random_state=0)"
      ]
     },
     "execution_count": 36,
     "metadata": {},
     "output_type": "execute_result"
    }
   ],
   "source": [
    "mdl = RandomForestClassifier(n_estimators=1000, random_state=0, class_weight=\"balanced\", n_jobs=6)\n",
    "mdl.fit(Xtrain_wtitle, ytrain)"
   ]
  },
  {
   "cell_type": "code",
   "execution_count": 37,
   "id": "96bfb1ab",
   "metadata": {},
   "outputs": [
    {
     "data": {
      "image/png": "[encoded data removed]",
      "text/plain": [
       "<Figure size 576x288 with 1 Axes>"
      ]
     },
     "metadata": {
      "needs_background": "light"
     },
     "output_type": "display_data"
    }
   ],
   "source": [
    "p = mdl.predict_proba(Xval_wtitle)[:, 1]\n",
    "plot_precision_recall_vs_threshold(yval, p)"
   ]
  },
  {
   "cell_type": "code",
   "execution_count": 38,
   "id": "b7534180",
   "metadata": {},
   "outputs": [
    {
     "data": {
      "text/plain": [
       "(0.313, 0.28571428571428575)"
      ]
     },
     "execution_count": 38,
     "metadata": {},
     "output_type": "execute_result"
    }
   ],
   "source": [
    "better_threshold(yval, p)"
   ]
  },
  {
   "cell_type": "code",
   "execution_count": null,
   "id": "981eb629",
   "metadata": {},
   "outputs": [],
   "source": []
  }
 ],
 "metadata": {
  "kernelspec": {
   "display_name": "Python 3 (ipykernel)",
   "language": "python",
   "name": "python3"
  },
  "language_info": {
   "codemirror_mode": {
    "name": "ipython",
    "version": 3
   },
   "file_extension": ".py",
   "mimetype": "text/x-python",
   "name": "python",
   "nbconvert_exporter": "python",
   "pygments_lexer": "ipython3",
   "version": "3.9.7"
  }
 },
 "nbformat": 4,
 "nbformat_minor": 5
}
