{
 "cells": [
  {
   "cell_type": "markdown",
   "metadata": {},
   "source": [
    "# Setup"
   ]
  },
  {
   "cell_type": "markdown",
   "metadata": {},
   "source": [
    "Install needed libraries"
   ]
  },
  {
   "cell_type": "code",
   "execution_count": 3,
   "metadata": {},
   "outputs": [
    {
     "name": "stdout",
     "output_type": "stream",
     "text": [
      "Collecting scikit-optimize\n",
      "  Downloading scikit_optimize-0.9.0-py2.py3-none-any.whl (100 kB)\n",
      "Requirement already satisfied: numpy>=1.13.3 in c:\\users\\jonys\\onedrive\\anaconda\\envs\\video_recommender\\lib\\site-packages (from scikit-optimize) (1.22.2)\n",
      "Requirement already satisfied: joblib>=0.11 in c:\\users\\jonys\\onedrive\\anaconda\\envs\\video_recommender\\lib\\site-packages (from scikit-optimize) (1.1.0)\n",
      "Requirement already satisfied: scipy>=0.19.1 in c:\\users\\jonys\\onedrive\\anaconda\\envs\\video_recommender\\lib\\site-packages (from scikit-optimize) (1.8.0)\n",
      "Requirement already satisfied: scikit-learn>=0.20.0 in c:\\users\\jonys\\onedrive\\anaconda\\envs\\video_recommender\\lib\\site-packages (from scikit-optimize) (1.0.2)\n",
      "Collecting pyaml>=16.9\n",
      "  Downloading pyaml-21.10.1-py2.py3-none-any.whl (24 kB)\n",
      "Requirement already satisfied: PyYAML in c:\\users\\jonys\\onedrive\\anaconda\\envs\\video_recommender\\lib\\site-packages (from pyaml>=16.9->scikit-optimize) (6.0)\n",
      "Requirement already satisfied: threadpoolctl>=2.0.0 in c:\\users\\jonys\\onedrive\\anaconda\\envs\\video_recommender\\lib\\site-packages (from scikit-learn>=0.20.0->scikit-optimize) (3.1.0)\n",
      "Installing collected packages: pyaml, scikit-optimize\n",
      "Successfully installed pyaml-21.10.1 scikit-optimize-0.9.0\n"
     ]
    }
   ],
   "source": [
    "# !pip install pandas\n",
    "# !pip install youtube_dl\n",
    "# !pip install sklearn\n",
    "# !pip install bs4\n",
    "# !pip install requests\n",
    "# !pip install label-studio\n",
    "# !pip install matplotlib\n",
    "# !pip install scipy\n",
    "# !pip install lightgbm\n",
    "!pip install scikit-optimize"
   ]
  },
  {
   "cell_type": "code",
   "execution_count": 4,
   "metadata": {},
   "outputs": [
    {
     "name": "stdout",
     "output_type": "stream",
     "text": [
      "^C\n"
     ]
    }
   ],
   "source": [
    "!label-studio"
   ]
  },
  {
   "cell_type": "code",
   "execution_count": 1,
   "metadata": {},
   "outputs": [],
   "source": [
    "import pandas as pd\n",
    "import numpy as np\n",
    "import re\n",
    "import datetime\n",
    "import youtube_dl\n",
    "import matplotlib.pyplot as plt\n",
    "from matplotlib import pylab\n",
    "import ast\n",
    "from sklearn.model_selection import train_test_split\n",
    "from sklearn.tree import DecisionTreeClassifier, plot_tree\n",
    "from sklearn.linear_model import LogisticRegression\n",
    "from sklearn.metrics import roc_auc_score, average_precision_score\n",
    "import requests as rq\n",
    "import joblib as jb\n",
    "import bs4 as bs4\n",
    "import json"
   ]
  },
  {
   "cell_type": "markdown",
   "metadata": {},
   "source": [
    "# Getting the data"
   ]
  },
  {
   "cell_type": "code",
   "execution_count": 7,
   "metadata": {},
   "outputs": [],
   "source": [
    "queries = [\"machine+learning\", \"valorant\", \"investimentos\", \"investiments\", \"data+science\", \"italian\"]"
   ]
  },
  {
   "cell_type": "code",
   "execution_count": null,
   "metadata": {},
   "outputs": [],
   "source": [
    "ydl = youtube_dl.YoutubeDL({'ignoreerrors': True})\n",
    "resultados = []\n",
    "for query in queries:\n",
    "    r = ydl.extract_info(\"ytsearch2000:{}\".format(query), download=False)\n",
    "    for entry in r['entries']:\n",
    "        if entry is not None:\n",
    "            entry['query'] = query\n",
    "    resultados += r['entries']"
   ]
  },
  {
   "cell_type": "code",
   "execution_count": 16,
   "metadata": {},
   "outputs": [],
   "source": [
    "resultados = [e for e in resultados if e != None]"
   ]
  },
  {
   "cell_type": "code",
   "execution_count": 17,
   "metadata": {},
   "outputs": [
    {
     "data": {
      "text/html": [
       "<div>\n",
       "<style scoped>\n",
       "    .dataframe tbody tr th:only-of-type {\n",
       "        vertical-align: middle;\n",
       "    }\n",
       "\n",
       "    .dataframe tbody tr th {\n",
       "        vertical-align: top;\n",
       "    }\n",
       "\n",
       "    .dataframe thead th {\n",
       "        text-align: right;\n",
       "    }\n",
       "</style>\n",
       "<table border=\"1\" class=\"dataframe\">\n",
       "  <thead>\n",
       "    <tr style=\"text-align: right;\">\n",
       "      <th></th>\n",
       "      <th>id</th>\n",
       "      <th>title</th>\n",
       "      <th>formats</th>\n",
       "      <th>thumbnails</th>\n",
       "      <th>description</th>\n",
       "      <th>upload_date</th>\n",
       "      <th>uploader</th>\n",
       "      <th>uploader_id</th>\n",
       "      <th>uploader_url</th>\n",
       "      <th>channel_id</th>\n",
       "      <th>...</th>\n",
       "      <th>album</th>\n",
       "      <th>url</th>\n",
       "      <th>manifest_url</th>\n",
       "      <th>tbr</th>\n",
       "      <th>protocol</th>\n",
       "      <th>preference</th>\n",
       "      <th>http_headers</th>\n",
       "      <th>release_date</th>\n",
       "      <th>release_year</th>\n",
       "      <th>days_since_upload</th>\n",
       "    </tr>\n",
       "  </thead>\n",
       "  <tbody>\n",
       "    <tr>\n",
       "      <th>0</th>\n",
       "      <td>JyGGMyR3x5I</td>\n",
       "      <td>Machine Learning: Tutorial prático usando apen...</td>\n",
       "      <td>[{'asr': 48000, 'filesize': 16323674, 'format_...</td>\n",
       "      <td>[{'height': 94, 'url': 'https://i.ytimg.com/vi...</td>\n",
       "      <td>✅ALURA COM 10% DE DESCONTO: https://www.alura....</td>\n",
       "      <td>2019-11-08</td>\n",
       "      <td>Filipe Deschamps</td>\n",
       "      <td>UCU5JicSrEM5A63jkJ2QvGYw</td>\n",
       "      <td>http://www.youtube.com/channel/UCU5JicSrEM5A63...</td>\n",
       "      <td>UCU5JicSrEM5A63jkJ2QvGYw</td>\n",
       "      <td>...</td>\n",
       "      <td>NaN</td>\n",
       "      <td>NaN</td>\n",
       "      <td>NaN</td>\n",
       "      <td>NaN</td>\n",
       "      <td>NaN</td>\n",
       "      <td>NaN</td>\n",
       "      <td>NaN</td>\n",
       "      <td>NaN</td>\n",
       "      <td>NaN</td>\n",
       "      <td>825.0</td>\n",
       "    </tr>\n",
       "    <tr>\n",
       "      <th>1</th>\n",
       "      <td>0PrOA2JK6GQ</td>\n",
       "      <td>Machine Learning Explicado</td>\n",
       "      <td>[{'asr': 48000, 'filesize': 5203175, 'format_i...</td>\n",
       "      <td>[{'height': 94, 'url': 'https://i.ytimg.com/vi...</td>\n",
       "      <td>Machine learning (ou aprendizado de máquina) é...</td>\n",
       "      <td>2021-02-25</td>\n",
       "      <td>Ciência Todo Dia</td>\n",
       "      <td>CienciaTodoDia</td>\n",
       "      <td>http://www.youtube.com/user/CienciaTodoDia</td>\n",
       "      <td>UCn9Erjy00mpnWeLnRqhsA1g</td>\n",
       "      <td>...</td>\n",
       "      <td>NaN</td>\n",
       "      <td>NaN</td>\n",
       "      <td>NaN</td>\n",
       "      <td>NaN</td>\n",
       "      <td>NaN</td>\n",
       "      <td>NaN</td>\n",
       "      <td>NaN</td>\n",
       "      <td>NaN</td>\n",
       "      <td>NaN</td>\n",
       "      <td>350.0</td>\n",
       "    </tr>\n",
       "    <tr>\n",
       "      <th>2</th>\n",
       "      <td>t5z5lyrb-7s</td>\n",
       "      <td>Introdução ao Machine Learning (ML de Zero a 1...</td>\n",
       "      <td>[{'asr': 48000, 'filesize': 2603732, 'format_i...</td>\n",
       "      <td>[{'height': 94, 'url': 'https://i.ytimg.com/vi...</td>\n",
       "      <td>This video is also available in English: https...</td>\n",
       "      <td>2019-11-13</td>\n",
       "      <td>TensorFlow</td>\n",
       "      <td>UC0rqucBdTuFTjJiefW5t-IQ</td>\n",
       "      <td>http://www.youtube.com/channel/UC0rqucBdTuFTjJ...</td>\n",
       "      <td>UC0rqucBdTuFTjJiefW5t-IQ</td>\n",
       "      <td>...</td>\n",
       "      <td>NaN</td>\n",
       "      <td>NaN</td>\n",
       "      <td>NaN</td>\n",
       "      <td>NaN</td>\n",
       "      <td>NaN</td>\n",
       "      <td>NaN</td>\n",
       "      <td>NaN</td>\n",
       "      <td>NaN</td>\n",
       "      <td>NaN</td>\n",
       "      <td>820.0</td>\n",
       "    </tr>\n",
       "    <tr>\n",
       "      <th>3</th>\n",
       "      <td>5q87K1WaoFI</td>\n",
       "      <td>Computer Scientist Explains Machine Learning i...</td>\n",
       "      <td>[{'asr': 48000, 'filesize': 9863039, 'format_i...</td>\n",
       "      <td>[{'height': 94, 'url': 'https://i.ytimg.com/vi...</td>\n",
       "      <td>WIRED has challenged computer scientist and Hi...</td>\n",
       "      <td>2021-08-18</td>\n",
       "      <td>WIRED</td>\n",
       "      <td>wired</td>\n",
       "      <td>http://www.youtube.com/user/wired</td>\n",
       "      <td>UCftwRNsjfRo08xYE31tkiyw</td>\n",
       "      <td>...</td>\n",
       "      <td>NaN</td>\n",
       "      <td>NaN</td>\n",
       "      <td>NaN</td>\n",
       "      <td>NaN</td>\n",
       "      <td>NaN</td>\n",
       "      <td>NaN</td>\n",
       "      <td>NaN</td>\n",
       "      <td>NaN</td>\n",
       "      <td>NaN</td>\n",
       "      <td>176.0</td>\n",
       "    </tr>\n",
       "    <tr>\n",
       "      <th>4</th>\n",
       "      <td>qDmojpkd8rE</td>\n",
       "      <td>O que é Machine Learning (Aprendizado de Máqui...</td>\n",
       "      <td>[{'format_id': '139', 'manifest_url': 'https:/...</td>\n",
       "      <td>[{'height': 94, 'url': 'https://i.ytimg.com/vi...</td>\n",
       "      <td>Nesse vídeo vamos aprender o que é machine lea...</td>\n",
       "      <td>2019-06-21</td>\n",
       "      <td>Didática Tech</td>\n",
       "      <td>UC0BiVs5EYh57gzGVvhddjsA</td>\n",
       "      <td>http://www.youtube.com/channel/UC0BiVs5EYh57gz...</td>\n",
       "      <td>UC0BiVs5EYh57gzGVvhddjsA</td>\n",
       "      <td>...</td>\n",
       "      <td>NaN</td>\n",
       "      <td>NaN</td>\n",
       "      <td>NaN</td>\n",
       "      <td>NaN</td>\n",
       "      <td>NaN</td>\n",
       "      <td>NaN</td>\n",
       "      <td>NaN</td>\n",
       "      <td>NaN</td>\n",
       "      <td>NaN</td>\n",
       "      <td>965.0</td>\n",
       "    </tr>\n",
       "  </tbody>\n",
       "</table>\n",
       "<p>5 rows × 72 columns</p>\n",
       "</div>"
      ],
      "text/plain": [
       "            id                                              title  \\\n",
       "0  JyGGMyR3x5I  Machine Learning: Tutorial prático usando apen...   \n",
       "1  0PrOA2JK6GQ                         Machine Learning Explicado   \n",
       "2  t5z5lyrb-7s  Introdução ao Machine Learning (ML de Zero a 1...   \n",
       "3  5q87K1WaoFI  Computer Scientist Explains Machine Learning i...   \n",
       "4  qDmojpkd8rE  O que é Machine Learning (Aprendizado de Máqui...   \n",
       "\n",
       "                                             formats  \\\n",
       "0  [{'asr': 48000, 'filesize': 16323674, 'format_...   \n",
       "1  [{'asr': 48000, 'filesize': 5203175, 'format_i...   \n",
       "2  [{'asr': 48000, 'filesize': 2603732, 'format_i...   \n",
       "3  [{'asr': 48000, 'filesize': 9863039, 'format_i...   \n",
       "4  [{'format_id': '139', 'manifest_url': 'https:/...   \n",
       "\n",
       "                                          thumbnails  \\\n",
       "0  [{'height': 94, 'url': 'https://i.ytimg.com/vi...   \n",
       "1  [{'height': 94, 'url': 'https://i.ytimg.com/vi...   \n",
       "2  [{'height': 94, 'url': 'https://i.ytimg.com/vi...   \n",
       "3  [{'height': 94, 'url': 'https://i.ytimg.com/vi...   \n",
       "4  [{'height': 94, 'url': 'https://i.ytimg.com/vi...   \n",
       "\n",
       "                                         description upload_date  \\\n",
       "0  ✅ALURA COM 10% DE DESCONTO: https://www.alura....  2019-11-08   \n",
       "1  Machine learning (ou aprendizado de máquina) é...  2021-02-25   \n",
       "2  This video is also available in English: https...  2019-11-13   \n",
       "3  WIRED has challenged computer scientist and Hi...  2021-08-18   \n",
       "4  Nesse vídeo vamos aprender o que é machine lea...  2019-06-21   \n",
       "\n",
       "           uploader               uploader_id  \\\n",
       "0  Filipe Deschamps  UCU5JicSrEM5A63jkJ2QvGYw   \n",
       "1  Ciência Todo Dia            CienciaTodoDia   \n",
       "2        TensorFlow  UC0rqucBdTuFTjJiefW5t-IQ   \n",
       "3             WIRED                     wired   \n",
       "4     Didática Tech  UC0BiVs5EYh57gzGVvhddjsA   \n",
       "\n",
       "                                        uploader_url  \\\n",
       "0  http://www.youtube.com/channel/UCU5JicSrEM5A63...   \n",
       "1         http://www.youtube.com/user/CienciaTodoDia   \n",
       "2  http://www.youtube.com/channel/UC0rqucBdTuFTjJ...   \n",
       "3                  http://www.youtube.com/user/wired   \n",
       "4  http://www.youtube.com/channel/UC0BiVs5EYh57gz...   \n",
       "\n",
       "                 channel_id  ... album  url  manifest_url tbr  protocol  \\\n",
       "0  UCU5JicSrEM5A63jkJ2QvGYw  ...   NaN  NaN           NaN NaN       NaN   \n",
       "1  UCn9Erjy00mpnWeLnRqhsA1g  ...   NaN  NaN           NaN NaN       NaN   \n",
       "2  UC0rqucBdTuFTjJiefW5t-IQ  ...   NaN  NaN           NaN NaN       NaN   \n",
       "3  UCftwRNsjfRo08xYE31tkiyw  ...   NaN  NaN           NaN NaN       NaN   \n",
       "4  UC0BiVs5EYh57gzGVvhddjsA  ...   NaN  NaN           NaN NaN       NaN   \n",
       "\n",
       "  preference http_headers release_date release_year days_since_upload  \n",
       "0        NaN          NaN          NaN          NaN             825.0  \n",
       "1        NaN          NaN          NaN          NaN             350.0  \n",
       "2        NaN          NaN          NaN          NaN             820.0  \n",
       "3        NaN          NaN          NaN          NaN             176.0  \n",
       "4        NaN          NaN          NaN          NaN             965.0  \n",
       "\n",
       "[5 rows x 72 columns]"
      ]
     },
     "execution_count": 17,
     "metadata": {},
     "output_type": "execute_result"
    }
   ],
   "source": [
    "df = pd.DataFrame(resultados)\n",
    "df['upload_date'] = pd.to_datetime(df[\"upload_date\"])\n",
    "df[\"days_since_upload\"] = (pd.to_datetime(\"2022-02-10\") - df[\"upload_date\"])/np.timedelta64(1, 'D')\n",
    "df.head()"
   ]
  },
  {
   "cell_type": "code",
   "execution_count": 18,
   "metadata": {},
   "outputs": [],
   "source": [
    "df[\"thumbnails_links\"] = df[\"thumbnails\"].apply(lambda x: ast.literal_eval(x)[-1]['url'])"
   ]
  },
  {
   "cell_type": "code",
   "execution_count": 19,
   "metadata": {},
   "outputs": [],
   "source": [
    "columns = ['id', 'title', 'upload_date', 'query', 'view_count', 'thumbnails_links', 'description', 'uploader', 'days_since_upload']\n",
    "df.to_csv(\".\\\\csv\\\\raw_data.csv\", index=False)\n",
    "df[columns].to_csv(\".\\\\csv\\\\raw_data_filtered.csv\", index=False)"
   ]
  },
  {
   "cell_type": "markdown",
   "metadata": {},
   "source": [
    "# Processing the data"
   ]
  },
  {
   "cell_type": "code",
   "execution_count": 49,
   "metadata": {},
   "outputs": [
    {
     "data": {
      "text/html": [
       "<div>\n",
       "<style scoped>\n",
       "    .dataframe tbody tr th:only-of-type {\n",
       "        vertical-align: middle;\n",
       "    }\n",
       "\n",
       "    .dataframe tbody tr th {\n",
       "        vertical-align: top;\n",
       "    }\n",
       "\n",
       "    .dataframe thead th {\n",
       "        text-align: right;\n",
       "    }\n",
       "</style>\n",
       "<table border=\"1\" class=\"dataframe\">\n",
       "  <thead>\n",
       "    <tr style=\"text-align: right;\">\n",
       "      <th></th>\n",
       "      <th>id</th>\n",
       "      <th>title</th>\n",
       "      <th>upload_date</th>\n",
       "      <th>query</th>\n",
       "      <th>view_count</th>\n",
       "      <th>thumbnails_links</th>\n",
       "      <th>description</th>\n",
       "      <th>uploader</th>\n",
       "      <th>days_since_upload</th>\n",
       "      <th>y</th>\n",
       "    </tr>\n",
       "  </thead>\n",
       "  <tbody>\n",
       "    <tr>\n",
       "      <th>0</th>\n",
       "      <td>704</td>\n",
       "      <td>Building Machine Learning models with Edge Imp...</td>\n",
       "      <td>2021-11-11</td>\n",
       "      <td>machine+learning</td>\n",
       "      <td>2265150</td>\n",
       "      <td>https://i.ytimg.com/vi/gw1E5JZTim0/hqdefault.j...</td>\n",
       "      <td>Meet Jan Jongboom (CTO) and Jenny Plunkett (En...</td>\n",
       "      <td>TensorFlow</td>\n",
       "      <td>91.0</td>\n",
       "      <td>1.0</td>\n",
       "    </tr>\n",
       "    <tr>\n",
       "      <th>1</th>\n",
       "      <td>679</td>\n",
       "      <td>Che differenza c'è tra Intelligenza Artificial...</td>\n",
       "      <td>2016-11-04</td>\n",
       "      <td>machine+learning</td>\n",
       "      <td>34731</td>\n",
       "      <td>https://i.ytimg.com/vi_webp/EGqdZsKOa4M/maxres...</td>\n",
       "      <td>Che differenza c'è tra Intelligenza Artificial...</td>\n",
       "      <td>Ciao Internet - Matteo Flora</td>\n",
       "      <td>1924.0</td>\n",
       "      <td>0.0</td>\n",
       "    </tr>\n",
       "    <tr>\n",
       "      <th>2</th>\n",
       "      <td>765</td>\n",
       "      <td>Signal Processing and Machine Learning</td>\n",
       "      <td>2015-07-15</td>\n",
       "      <td>machine+learning</td>\n",
       "      <td>106799</td>\n",
       "      <td>https://i.ytimg.com/vi/mexN6d8QF9o/hqdefault.j...</td>\n",
       "      <td>Learn about Signal Processing and Machine Lear...</td>\n",
       "      <td>IEEE Signal Processing Society</td>\n",
       "      <td>2402.0</td>\n",
       "      <td>0.0</td>\n",
       "    </tr>\n",
       "    <tr>\n",
       "      <th>3</th>\n",
       "      <td>1064</td>\n",
       "      <td>TSM vs Girl Kissers - HIGHLIGHTS | Champions T...</td>\n",
       "      <td>2022-01-27</td>\n",
       "      <td>valorant</td>\n",
       "      <td>163671</td>\n",
       "      <td>https://i.ytimg.com/vi/uM2USjJHnXA/maxresdefau...</td>\n",
       "      <td>#tsm #tsmvsGK #GK\\n►Stats: https://www.vlr.gg/...</td>\n",
       "      <td>Daily Valorant</td>\n",
       "      <td>14.0</td>\n",
       "      <td>0.0</td>\n",
       "    </tr>\n",
       "    <tr>\n",
       "      <th>4</th>\n",
       "      <td>595</td>\n",
       "      <td>Machine Learning Tutorial Python - 16: Hyper p...</td>\n",
       "      <td>2019-11-23</td>\n",
       "      <td>machine+learning</td>\n",
       "      <td>125419</td>\n",
       "      <td>https://i.ytimg.com/vi_webp/HdlDYng8g9s/maxres...</td>\n",
       "      <td>In this python machine learning tutorial for b...</td>\n",
       "      <td>codebasics</td>\n",
       "      <td>810.0</td>\n",
       "      <td>1.0</td>\n",
       "    </tr>\n",
       "  </tbody>\n",
       "</table>\n",
       "</div>"
      ],
      "text/plain": [
       "     id                                              title upload_date  \\\n",
       "0   704  Building Machine Learning models with Edge Imp...  2021-11-11   \n",
       "1   679  Che differenza c'è tra Intelligenza Artificial...  2016-11-04   \n",
       "2   765             Signal Processing and Machine Learning  2015-07-15   \n",
       "3  1064  TSM vs Girl Kissers - HIGHLIGHTS | Champions T...  2022-01-27   \n",
       "4   595  Machine Learning Tutorial Python - 16: Hyper p...  2019-11-23   \n",
       "\n",
       "              query  view_count  \\\n",
       "0  machine+learning     2265150   \n",
       "1  machine+learning       34731   \n",
       "2  machine+learning      106799   \n",
       "3          valorant      163671   \n",
       "4  machine+learning      125419   \n",
       "\n",
       "                                    thumbnails_links  \\\n",
       "0  https://i.ytimg.com/vi/gw1E5JZTim0/hqdefault.j...   \n",
       "1  https://i.ytimg.com/vi_webp/EGqdZsKOa4M/maxres...   \n",
       "2  https://i.ytimg.com/vi/mexN6d8QF9o/hqdefault.j...   \n",
       "3  https://i.ytimg.com/vi/uM2USjJHnXA/maxresdefau...   \n",
       "4  https://i.ytimg.com/vi_webp/HdlDYng8g9s/maxres...   \n",
       "\n",
       "                                         description  \\\n",
       "0  Meet Jan Jongboom (CTO) and Jenny Plunkett (En...   \n",
       "1  Che differenza c'è tra Intelligenza Artificial...   \n",
       "2  Learn about Signal Processing and Machine Lear...   \n",
       "3  #tsm #tsmvsGK #GK\\n►Stats: https://www.vlr.gg/...   \n",
       "4  In this python machine learning tutorial for b...   \n",
       "\n",
       "                         uploader  days_since_upload    y  \n",
       "0                      TensorFlow               91.0  1.0  \n",
       "1    Ciao Internet - Matteo Flora             1924.0  0.0  \n",
       "2  IEEE Signal Processing Society             2402.0  0.0  \n",
       "3                  Daily Valorant               14.0  0.0  \n",
       "4                      codebasics              810.0  1.0  "
      ]
     },
     "execution_count": 49,
     "metadata": {},
     "output_type": "execute_result"
    }
   ],
   "source": [
    "df_labeled = pd.read_csv(\"csv\\\\raw_data_labeled.csv\")\n",
    "def y(x):\n",
    "    if x == \"É interessante\":\n",
    "        return 1\n",
    "    if x == \"Não é interessante\":\n",
    "        return 0\n",
    "    return np.nan\n",
    "df_labeled[\"y\"] = df_labeled[\"intent\"].apply(lambda x: y(x))\n",
    "df_labeled = df_labeled.drop([\"created_at\", \"updated_at\", \"lead_time\", \"annotation_id\", \"annotator\", \"intent\"], axis=1)\n",
    "df_labeled.head()"
   ]
  },
  {
   "cell_type": "code",
   "execution_count": 50,
   "metadata": {},
   "outputs": [
    {
     "data": {
      "text/html": [
       "<div>\n",
       "<style scoped>\n",
       "    .dataframe tbody tr th:only-of-type {\n",
       "        vertical-align: middle;\n",
       "    }\n",
       "\n",
       "    .dataframe tbody tr th {\n",
       "        vertical-align: top;\n",
       "    }\n",
       "\n",
       "    .dataframe thead th {\n",
       "        text-align: right;\n",
       "    }\n",
       "</style>\n",
       "<table border=\"1\" class=\"dataframe\">\n",
       "  <thead>\n",
       "    <tr style=\"text-align: right;\">\n",
       "      <th></th>\n",
       "      <th>id</th>\n",
       "      <th>title</th>\n",
       "      <th>formats</th>\n",
       "      <th>thumbnails</th>\n",
       "      <th>description</th>\n",
       "      <th>upload_date</th>\n",
       "      <th>uploader</th>\n",
       "      <th>uploader_id</th>\n",
       "      <th>uploader_url</th>\n",
       "      <th>channel_id</th>\n",
       "      <th>...</th>\n",
       "      <th>url</th>\n",
       "      <th>manifest_url</th>\n",
       "      <th>tbr</th>\n",
       "      <th>protocol</th>\n",
       "      <th>preference</th>\n",
       "      <th>http_headers</th>\n",
       "      <th>release_date</th>\n",
       "      <th>release_year</th>\n",
       "      <th>days_since_upload</th>\n",
       "      <th>thumbnails_links</th>\n",
       "    </tr>\n",
       "  </thead>\n",
       "  <tbody>\n",
       "    <tr>\n",
       "      <th>0</th>\n",
       "      <td>JyGGMyR3x5I</td>\n",
       "      <td>Machine Learning: Tutorial prático usando apen...</td>\n",
       "      <td>[{'asr': 48000, 'filesize': 16323674, 'format_...</td>\n",
       "      <td>[{'height': 94, 'url': 'https://i.ytimg.com/vi...</td>\n",
       "      <td>✅ALURA COM 10% DE DESCONTO: https://www.alura....</td>\n",
       "      <td>2019-11-08</td>\n",
       "      <td>Filipe Deschamps</td>\n",
       "      <td>UCU5JicSrEM5A63jkJ2QvGYw</td>\n",
       "      <td>http://www.youtube.com/channel/UCU5JicSrEM5A63...</td>\n",
       "      <td>UCU5JicSrEM5A63jkJ2QvGYw</td>\n",
       "      <td>...</td>\n",
       "      <td>NaN</td>\n",
       "      <td>NaN</td>\n",
       "      <td>NaN</td>\n",
       "      <td>NaN</td>\n",
       "      <td>NaN</td>\n",
       "      <td>NaN</td>\n",
       "      <td>NaN</td>\n",
       "      <td>NaN</td>\n",
       "      <td>825.0</td>\n",
       "      <td>https://i.ytimg.com/vi_webp/JyGGMyR3x5I/maxres...</td>\n",
       "    </tr>\n",
       "    <tr>\n",
       "      <th>1</th>\n",
       "      <td>0PrOA2JK6GQ</td>\n",
       "      <td>Machine Learning Explicado</td>\n",
       "      <td>[{'asr': 48000, 'filesize': 5203175, 'format_i...</td>\n",
       "      <td>[{'height': 94, 'url': 'https://i.ytimg.com/vi...</td>\n",
       "      <td>Machine learning (ou aprendizado de máquina) é...</td>\n",
       "      <td>2021-02-25</td>\n",
       "      <td>Ciência Todo Dia</td>\n",
       "      <td>CienciaTodoDia</td>\n",
       "      <td>http://www.youtube.com/user/CienciaTodoDia</td>\n",
       "      <td>UCn9Erjy00mpnWeLnRqhsA1g</td>\n",
       "      <td>...</td>\n",
       "      <td>NaN</td>\n",
       "      <td>NaN</td>\n",
       "      <td>NaN</td>\n",
       "      <td>NaN</td>\n",
       "      <td>NaN</td>\n",
       "      <td>NaN</td>\n",
       "      <td>NaN</td>\n",
       "      <td>NaN</td>\n",
       "      <td>350.0</td>\n",
       "      <td>https://i.ytimg.com/vi/0PrOA2JK6GQ/maxresdefau...</td>\n",
       "    </tr>\n",
       "    <tr>\n",
       "      <th>2</th>\n",
       "      <td>t5z5lyrb-7s</td>\n",
       "      <td>Introdução ao Machine Learning (ML de Zero a 1...</td>\n",
       "      <td>[{'asr': 48000, 'filesize': 2603732, 'format_i...</td>\n",
       "      <td>[{'height': 94, 'url': 'https://i.ytimg.com/vi...</td>\n",
       "      <td>This video is also available in English: https...</td>\n",
       "      <td>2019-11-13</td>\n",
       "      <td>TensorFlow</td>\n",
       "      <td>UC0rqucBdTuFTjJiefW5t-IQ</td>\n",
       "      <td>http://www.youtube.com/channel/UC0rqucBdTuFTjJ...</td>\n",
       "      <td>UC0rqucBdTuFTjJiefW5t-IQ</td>\n",
       "      <td>...</td>\n",
       "      <td>NaN</td>\n",
       "      <td>NaN</td>\n",
       "      <td>NaN</td>\n",
       "      <td>NaN</td>\n",
       "      <td>NaN</td>\n",
       "      <td>NaN</td>\n",
       "      <td>NaN</td>\n",
       "      <td>NaN</td>\n",
       "      <td>820.0</td>\n",
       "      <td>https://i.ytimg.com/vi_webp/t5z5lyrb-7s/maxres...</td>\n",
       "    </tr>\n",
       "    <tr>\n",
       "      <th>3</th>\n",
       "      <td>5q87K1WaoFI</td>\n",
       "      <td>Computer Scientist Explains Machine Learning i...</td>\n",
       "      <td>[{'asr': 48000, 'filesize': 9863039, 'format_i...</td>\n",
       "      <td>[{'height': 94, 'url': 'https://i.ytimg.com/vi...</td>\n",
       "      <td>WIRED has challenged computer scientist and Hi...</td>\n",
       "      <td>2021-08-18</td>\n",
       "      <td>WIRED</td>\n",
       "      <td>wired</td>\n",
       "      <td>http://www.youtube.com/user/wired</td>\n",
       "      <td>UCftwRNsjfRo08xYE31tkiyw</td>\n",
       "      <td>...</td>\n",
       "      <td>NaN</td>\n",
       "      <td>NaN</td>\n",
       "      <td>NaN</td>\n",
       "      <td>NaN</td>\n",
       "      <td>NaN</td>\n",
       "      <td>NaN</td>\n",
       "      <td>NaN</td>\n",
       "      <td>NaN</td>\n",
       "      <td>176.0</td>\n",
       "      <td>https://i.ytimg.com/vi/5q87K1WaoFI/maxresdefau...</td>\n",
       "    </tr>\n",
       "    <tr>\n",
       "      <th>4</th>\n",
       "      <td>qDmojpkd8rE</td>\n",
       "      <td>O que é Machine Learning (Aprendizado de Máqui...</td>\n",
       "      <td>[{'format_id': '139', 'manifest_url': 'https:/...</td>\n",
       "      <td>[{'height': 94, 'url': 'https://i.ytimg.com/vi...</td>\n",
       "      <td>Nesse vídeo vamos aprender o que é machine lea...</td>\n",
       "      <td>2019-06-21</td>\n",
       "      <td>Didática Tech</td>\n",
       "      <td>UC0BiVs5EYh57gzGVvhddjsA</td>\n",
       "      <td>http://www.youtube.com/channel/UC0BiVs5EYh57gz...</td>\n",
       "      <td>UC0BiVs5EYh57gzGVvhddjsA</td>\n",
       "      <td>...</td>\n",
       "      <td>NaN</td>\n",
       "      <td>NaN</td>\n",
       "      <td>NaN</td>\n",
       "      <td>NaN</td>\n",
       "      <td>NaN</td>\n",
       "      <td>NaN</td>\n",
       "      <td>NaN</td>\n",
       "      <td>NaN</td>\n",
       "      <td>965.0</td>\n",
       "      <td>https://i.ytimg.com/vi_webp/qDmojpkd8rE/maxres...</td>\n",
       "    </tr>\n",
       "  </tbody>\n",
       "</table>\n",
       "<p>5 rows × 73 columns</p>\n",
       "</div>"
      ],
      "text/plain": [
       "            id                                              title  \\\n",
       "0  JyGGMyR3x5I  Machine Learning: Tutorial prático usando apen...   \n",
       "1  0PrOA2JK6GQ                         Machine Learning Explicado   \n",
       "2  t5z5lyrb-7s  Introdução ao Machine Learning (ML de Zero a 1...   \n",
       "3  5q87K1WaoFI  Computer Scientist Explains Machine Learning i...   \n",
       "4  qDmojpkd8rE  O que é Machine Learning (Aprendizado de Máqui...   \n",
       "\n",
       "                                             formats  \\\n",
       "0  [{'asr': 48000, 'filesize': 16323674, 'format_...   \n",
       "1  [{'asr': 48000, 'filesize': 5203175, 'format_i...   \n",
       "2  [{'asr': 48000, 'filesize': 2603732, 'format_i...   \n",
       "3  [{'asr': 48000, 'filesize': 9863039, 'format_i...   \n",
       "4  [{'format_id': '139', 'manifest_url': 'https:/...   \n",
       "\n",
       "                                          thumbnails  \\\n",
       "0  [{'height': 94, 'url': 'https://i.ytimg.com/vi...   \n",
       "1  [{'height': 94, 'url': 'https://i.ytimg.com/vi...   \n",
       "2  [{'height': 94, 'url': 'https://i.ytimg.com/vi...   \n",
       "3  [{'height': 94, 'url': 'https://i.ytimg.com/vi...   \n",
       "4  [{'height': 94, 'url': 'https://i.ytimg.com/vi...   \n",
       "\n",
       "                                         description upload_date  \\\n",
       "0  ✅ALURA COM 10% DE DESCONTO: https://www.alura....  2019-11-08   \n",
       "1  Machine learning (ou aprendizado de máquina) é...  2021-02-25   \n",
       "2  This video is also available in English: https...  2019-11-13   \n",
       "3  WIRED has challenged computer scientist and Hi...  2021-08-18   \n",
       "4  Nesse vídeo vamos aprender o que é machine lea...  2019-06-21   \n",
       "\n",
       "           uploader               uploader_id  \\\n",
       "0  Filipe Deschamps  UCU5JicSrEM5A63jkJ2QvGYw   \n",
       "1  Ciência Todo Dia            CienciaTodoDia   \n",
       "2        TensorFlow  UC0rqucBdTuFTjJiefW5t-IQ   \n",
       "3             WIRED                     wired   \n",
       "4     Didática Tech  UC0BiVs5EYh57gzGVvhddjsA   \n",
       "\n",
       "                                        uploader_url  \\\n",
       "0  http://www.youtube.com/channel/UCU5JicSrEM5A63...   \n",
       "1         http://www.youtube.com/user/CienciaTodoDia   \n",
       "2  http://www.youtube.com/channel/UC0rqucBdTuFTjJ...   \n",
       "3                  http://www.youtube.com/user/wired   \n",
       "4  http://www.youtube.com/channel/UC0BiVs5EYh57gz...   \n",
       "\n",
       "                 channel_id  ...  url  manifest_url  tbr  protocol  \\\n",
       "0  UCU5JicSrEM5A63jkJ2QvGYw  ...  NaN           NaN  NaN       NaN   \n",
       "1  UCn9Erjy00mpnWeLnRqhsA1g  ...  NaN           NaN  NaN       NaN   \n",
       "2  UC0rqucBdTuFTjJiefW5t-IQ  ...  NaN           NaN  NaN       NaN   \n",
       "3  UCftwRNsjfRo08xYE31tkiyw  ...  NaN           NaN  NaN       NaN   \n",
       "4  UC0BiVs5EYh57gzGVvhddjsA  ...  NaN           NaN  NaN       NaN   \n",
       "\n",
       "   preference http_headers release_date release_year days_since_upload  \\\n",
       "0         NaN          NaN          NaN          NaN             825.0   \n",
       "1         NaN          NaN          NaN          NaN             350.0   \n",
       "2         NaN          NaN          NaN          NaN             820.0   \n",
       "3         NaN          NaN          NaN          NaN             176.0   \n",
       "4         NaN          NaN          NaN          NaN             965.0   \n",
       "\n",
       "                                    thumbnails_links  \n",
       "0  https://i.ytimg.com/vi_webp/JyGGMyR3x5I/maxres...  \n",
       "1  https://i.ytimg.com/vi/0PrOA2JK6GQ/maxresdefau...  \n",
       "2  https://i.ytimg.com/vi_webp/t5z5lyrb-7s/maxres...  \n",
       "3  https://i.ytimg.com/vi/5q87K1WaoFI/maxresdefau...  \n",
       "4  https://i.ytimg.com/vi_webp/qDmojpkd8rE/maxres...  \n",
       "\n",
       "[5 rows x 73 columns]"
      ]
     },
     "execution_count": 50,
     "metadata": {},
     "output_type": "execute_result"
    }
   ],
   "source": [
    "df = pd.read_csv(\"csv\\\\raw_data.csv\")\n",
    "df.head()"
   ]
  },
  {
   "cell_type": "code",
   "execution_count": 51,
   "metadata": {},
   "outputs": [],
   "source": [
    "def mapper_y(x):\n",
    "    y = df_labeled.loc[df_labeled[\"thumbnails_links\"] == x, \"y\"].tolist()\n",
    "    if len(y) != 0:\n",
    "        return y[0]\n",
    "    return np.nan\n",
    "\n",
    "df[\"y\"] = df[\"thumbnails_links\"].apply(lambda x: mapper_y(x))\n",
    "df[\"views_per_day\"] = df[\"view_count\"]/df[\"days_since_upload\"]   "
   ]
  },
  {
   "cell_type": "code",
   "execution_count": 52,
   "metadata": {},
   "outputs": [],
   "source": [
    "df.to_csv(\"csv\\\\raw_data_labeled_ready.csv\", index=False)"
   ]
  },
  {
   "cell_type": "code",
   "execution_count": 40,
   "metadata": {},
   "outputs": [
    {
     "data": {
      "text/plain": [
       "(518, 75)"
      ]
     },
     "execution_count": 40,
     "metadata": {},
     "output_type": "execute_result"
    }
   ],
   "source": [
    "df = df[df[\"y\"].notnull()]\n",
    "df.shape"
   ]
  },
  {
   "cell_type": "markdown",
   "metadata": {},
   "source": [
    "# Split train test"
   ]
  },
  {
   "cell_type": "code",
   "execution_count": 41,
   "metadata": {},
   "outputs": [
    {
     "data": {
      "text/plain": [
       "<AxesSubplot:>"
      ]
     },
     "execution_count": 41,
     "metadata": {},
     "output_type": "execute_result"
    },
    {
     "data": {
      "image/png": "[encoded data removed]",
      "text/plain": [
       "<Figure size 1440x720 with 1 Axes>"
      ]
     },
     "metadata": {
      "needs_background": "light"
     },
     "output_type": "display_data"
    }
   ],
   "source": [
    "df[\"upload_date\"].value_counts().plot(figsize=(20,10))"
   ]
  },
  {
   "cell_type": "code",
   "execution_count": 42,
   "metadata": {},
   "outputs": [
    {
     "data": {
      "text/plain": [
       "((263, 74), (255, 74), (263,), (255,))"
      ]
     },
     "execution_count": 42,
     "metadata": {},
     "output_type": "execute_result"
    }
   ],
   "source": [
    "date = \"2020-10-05\"\n",
    "Xtrain, Xval = df[df[\"upload_date\"] < date].drop(\"y\", axis=1), df[df[\"upload_date\"] >= date].drop(\"y\", axis=1)\n",
    "ytrain, yval = df[df[\"upload_date\"] < date][\"y\"], df[df[\"upload_date\"] >= date][\"y\"]\n",
    "Xtrain.shape, Xval.shape, ytrain.shape, yval.shape"
   ]
  },
  {
   "cell_type": "markdown",
   "metadata": {},
   "source": [
    "# testing models"
   ]
  },
  {
   "cell_type": "code",
   "execution_count": 43,
   "metadata": {},
   "outputs": [
    {
     "data": {
      "text/plain": [
       "DecisionTreeClassifier(class_weight='balanced', max_depth=2, random_state=0)"
      ]
     },
     "execution_count": 43,
     "metadata": {},
     "output_type": "execute_result"
    }
   ],
   "source": [
    "mdl = DecisionTreeClassifier(random_state=0, max_depth=2, class_weight=\"balanced\")\n",
    "mdl.fit(Xtrain[[\"view_count\", \"views_per_day\"]], ytrain)"
   ]
  },
  {
   "cell_type": "code",
   "execution_count": 44,
   "metadata": {},
   "outputs": [],
   "source": [
    "p = mdl.predict_proba(Xval[[\"view_count\", \"views_per_day\"]])[:, 1]"
   ]
  },
  {
   "cell_type": "code",
   "execution_count": 45,
   "metadata": {},
   "outputs": [
    {
     "data": {
      "text/plain": [
       "0.184948752228164"
      ]
     },
     "execution_count": 45,
     "metadata": {},
     "output_type": "execute_result"
    }
   ],
   "source": [
    "average_precision_score(yval, p)"
   ]
  },
  {
   "cell_type": "code",
   "execution_count": 46,
   "metadata": {},
   "outputs": [
    {
     "data": {
      "text/plain": [
       "0.5387323943661972"
      ]
     },
     "execution_count": 46,
     "metadata": {},
     "output_type": "execute_result"
    }
   ],
   "source": [
    "roc_auc_score(yval, p)"
   ]
  },
  {
   "cell_type": "code",
   "execution_count": 48,
   "metadata": {},
   "outputs": [
    {
     "data": {
      "text/plain": [
       "[Text(0.5, 0.8333333333333334, 'view_count <= 394637.5\\ngini = 0.5\\nsamples = 263\\nvalue = [131.5, 131.5]'),\n",
       " Text(0.25, 0.5, 'view_count <= 133020.0\\ngini = 0.484\\nsamples = 210\\nvalue = [109.202, 75.712]'),\n",
       " Text(0.125, 0.16666666666666666, 'gini = 0.499\\nsamples = 155\\nvalue = [78.328, 71.727]'),\n",
       " Text(0.375, 0.16666666666666666, 'gini = 0.202\\nsamples = 55\\nvalue = [30.874, 3.985]'),\n",
       " Text(0.75, 0.5, 'view_count <= 2745884.0\\ngini = 0.408\\nsamples = 53\\nvalue = [22.298, 55.788]'),\n",
       " Text(0.625, 0.16666666666666666, 'gini = 0.47\\nsamples = 47\\nvalue = [21.726, 35.864]'),\n",
       " Text(0.875, 0.16666666666666666, 'gini = 0.054\\nsamples = 6\\nvalue = [0.572, 19.924]')]"
      ]
     },
     "execution_count": 48,
     "metadata": {},
     "output_type": "execute_result"
    },
    {
     "data": {
      "image/png": "[encoded data removed]",
      "text/plain": [
       "<Figure size 720x720 with 1 Axes>"
      ]
     },
     "metadata": {
      "needs_background": "light"
     },
     "output_type": "display_data"
    }
   ],
   "source": [
    "fig, ax = pylab.subplots(1, 1, figsize=(10, 10))\n",
    "plot_tree(mdl, ax=ax, feature_names=Xtrain[[\"view_count\", \"views_per_day\"]].columns)"
   ]
  }
 ],
 "metadata": {
  "interpreter": {
   "hash": "a82a3857d6fa5cb245749a5814c200565bf45e68be48b2defbe2b576e77c9a53"
  },
  "kernelspec": {
   "display_name": "Python 3 (ipykernel)",
   "language": "python",
   "name": "python3"
  },
  "language_info": {
   "codemirror_mode": {
    "name": "ipython",
    "version": 3
   },
   "file_extension": ".py",
   "mimetype": "text/x-python",
   "name": "python",
   "nbconvert_exporter": "python",
   "pygments_lexer": "ipython3",
   "version": "3.9.7"
  }
 },
 "nbformat": 4,
 "nbformat_minor": 2
}
